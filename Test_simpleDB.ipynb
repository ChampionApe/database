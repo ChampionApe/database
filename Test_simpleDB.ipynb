{
 "cells": [
  {
   "cell_type": "code",
   "execution_count": 1,
   "id": "a6f42472-079a-48b2-84bb-2eb018193b99",
   "metadata": {},
   "outputs": [],
   "source": [
    "import os\n",
    "testfile = os.path.join(os.getcwd(), 'testdata', 'test_read.xlsx')"
   ]
  },
  {
   "cell_type": "markdown",
   "id": "07f1f85e-3b80-4d78-a5f4-d9e8af2500a6",
   "metadata": {},
   "source": [
    "The ```simpleDB``` modules:\n",
    "* ```simpleDB```: Core module for simple databases.\n",
    "* ```simpleDB_wheels```: Includes some additional methods useful for the ```simpleDB``` core module\n",
    "* Classes/main methods in the modules:\n",
    "    * ```simpleDB.SimpleDB```: main database method from ```simpleDB```.\n",
    "    * ```simpleDB_wheels.read```: auxiliary class used to load a ```SimpleDB``` from an excel.\n",
    "    * ```simpleDB_wheels.readSets```: auxiliary method that reads set definitions from other symbols in a ```SimpleDB```."
   ]
  },
  {
   "cell_type": "markdown",
   "id": "8f71761c-a3b5-4ef3-8894-3f42d30895b4",
   "metadata": {},
   "source": [
    "*Import ```pyDatabases```:*"
   ]
  },
  {
   "cell_type": "code",
   "execution_count": 2,
   "id": "7a6d77e1-921e-438d-bc77-f5d78bcb8fc0",
   "metadata": {},
   "outputs": [],
   "source": [
    "import pyDatabases"
   ]
  },
  {
   "cell_type": "markdown",
   "id": "4a5e8d33-2852-4820-8431-22ebe7bd2df6",
   "metadata": {},
   "source": [
    "*Import the ```simpleDB``` and ```simpleDB_wheels``` modules:*"
   ]
  },
  {
   "cell_type": "code",
   "execution_count": 3,
   "id": "cd17a831-2b6c-4841-a6ad-1517ddd1394b",
   "metadata": {},
   "outputs": [
    {
     "data": {
      "text/plain": [
       "True"
      ]
     },
     "execution_count": 3,
     "metadata": {},
     "output_type": "execute_result"
    }
   ],
   "source": [
    "from pyDatabases import gpyDB, simpleDB, simpleDB_wheels\n",
    "pyDatabases.simpleDB.type_ is simpleDB.type_"
   ]
  },
  {
   "cell_type": "markdown",
   "id": "56a117f6-d917-41be-846d-aa3a3fd6ef90",
   "metadata": {},
   "source": [
    "*From the wheels, import the ```read``` class and ```readSets``` method*"
   ]
  },
  {
   "cell_type": "code",
   "execution_count": 4,
   "id": "88276469-9006-40b3-a638-6f44b78dec1a",
   "metadata": {},
   "outputs": [],
   "source": [
    "from pyDatabases.simpleDB_wheels import read, readSets"
   ]
  },
  {
   "cell_type": "markdown",
   "id": "74bf67a2-f90f-4cd2-aa02-4dbbb363de2e",
   "metadata": {},
   "source": [
    "*Test ```read```:*"
   ]
  },
  {
   "cell_type": "code",
   "execution_count": 5,
   "id": "ed943b9e-bf01-48b8-b4ed-98de5cc9522c",
   "metadata": {},
   "outputs": [],
   "source": [
    "db = read.dbFromWB(testfile, {'sets': ['_sets'], \n",
    "                              'subsets': ['_subsets'],\n",
    "                              'maps': ['_maps'],\n",
    "                              'variables': ['_variables'],\n",
    "                              'scalars': ['_scalars'],\n",
    "                              'variable2D': ['_variable2D']})"
   ]
  },
  {
   "cell_type": "markdown",
   "id": "ab3c5d0d-2466-4cd5-8c92-2005bcdf0127",
   "metadata": {},
   "source": [
    "*Test ```readSets```:*"
   ]
  },
  {
   "cell_type": "code",
   "execution_count": 6,
   "id": "9305bd4b-56b2-4ea4-8f71-6b87e6152ec5",
   "metadata": {},
   "outputs": [],
   "source": [
    "readSets(db)"
   ]
  }
 ],
 "metadata": {
  "kernelspec": {
   "display_name": "Python 3 (ipykernel)",
   "language": "python",
   "name": "python3"
  },
  "language_info": {
   "codemirror_mode": {
    "name": "ipython",
    "version": 3
   },
   "file_extension": ".py",
   "mimetype": "text/x-python",
   "name": "python",
   "nbconvert_exporter": "python",
   "pygments_lexer": "ipython3",
   "version": "3.9.7"
  }
 },
 "nbformat": 4,
 "nbformat_minor": 5
}
