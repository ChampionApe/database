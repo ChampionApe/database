{
 "cells": [
  {
   "cell_type": "code",
   "execution_count": 1,
   "id": "e2f766a1-f3f2-4d22-9681-ecf48c871dc8",
   "metadata": {},
   "outputs": [],
   "source": [
    "import os, gams, pandas as pd, numpy as np, gams2numpy, shutil,pickle,pyDatabases\n",
    "from pyDatabases import gpy, GpyDB\n",
    "data = os.path.join(os.getcwd(), 'testdata')"
   ]
  },
  {
   "cell_type": "markdown",
   "id": "1f49c24f-205e-49b1-9fb8-15d8bbddcf72",
   "metadata": {},
   "source": [
    "*Load test databases:*"
   ]
  },
  {
   "cell_type": "code",
   "execution_count": 2,
   "id": "f1e532e0-98a4-49d8-9e40-d05faea5ef8a",
   "metadata": {},
   "outputs": [],
   "source": [
    "fs = [f\"{data}\\\\test_size1000.gdx\", f\"{data}\\\\baselinerun.gdx\"] # files\n",
    "ws = gams.GamsWorkspace() \n",
    "g2np = gams2numpy.Gams2Numpy(ws.system_directory)\n",
    "dbs = {'gms1': ws.add_database_from_gdx(fs[0]), 'gms2': ws.add_database_from_gdx(fs[1]),\n",
    "       'gpy1': GpyDB(db=fs[0],**{'name': 'testdb1'}), 'gpy2': GpyDB(db=fs[1],**{'name': 'testdb2'})}"
   ]
  },
  {
   "cell_type": "markdown",
   "id": "afd93de1-9cd5-4661-858e-d44dde9d7e26",
   "metadata": {
    "tags": []
   },
   "source": [
    "# ```GpyDB```"
   ]
  },
  {
   "cell_type": "code",
   "execution_count": 3,
   "id": "a40a541f-bd00-4d63-b6dc-24fe4738e717",
   "metadata": {},
   "outputs": [],
   "source": [
    "db = dbs['gpy1']"
   ]
  },
  {
   "cell_type": "markdown",
   "id": "c00202e5-c4d3-4f72-b99b-c5fcd4aaf92a",
   "metadata": {},
   "source": [
    "*gpyDB* facilitates interaction with GAMS databases from Python using pandas and the Python API from GAMS. This notebook briefly goes through *GpyDB* class."
   ]
  },
  {
   "cell_type": "markdown",
   "id": "01824e92-fa6b-4afa-a1e9-905de9dc553d",
   "metadata": {
    "tags": []
   },
   "source": [
    "The class is a database that works on both ```gams.GamsDatabases``` and ```gpyDB.SeriesDB``` databases. It includes a number of methods for arranging/slicing/subsetting/aggregating data. It also includes methods to deal with/work through aliases. Instances of this class can be initialized in three different ways that defines (at least) four attributes:\n",
    "\n",
    "```python\n",
    "class GpyDB:\n",
    "```  \n",
    "* ```self.series```: A ```SeriesDB``` database.\n",
    "* ```self.ws```: A ```gams.GamsWorkspace```.\n",
    "* ```self.work_folder```: The repository for the ```self.ws```.\n",
    "* ```self.database```: A ```gams.GamsDatabase``` database (opens from ```self.ws```).\n",
    "* ```self.g2np```: A ```gams2numpy.Gams2Numpy``` instance (used to write/read data). \n",
    "* ```self.name```: Name of database.\n",
    "* ```self.export_settings```: Dictionary used to specify how the database can be pickled. The key 'dropattrs' specifies which attributes are not pickled directly. The key 'data_folder' specifies where to store data. This is used to carry non-pickleable classes with us. The ```self.database``` cannot be pickled directly, but specifying the 'data_folder' writes the ```self.database``` to a .gdx file that is read again when ```self``` is read from the pickle."
   ]
  },
  {
   "cell_type": "code",
   "execution_count": 4,
   "id": "5b508578-538f-4cd7-8adc-367d1258d9af",
   "metadata": {},
   "outputs": [
    {
     "data": {
      "text/plain": [
       "{'ws': <gams.workspace.GamsWorkspace at 0x23e17ecfe50>,\n",
       " 'work_folder': 'C:\\\\Users\\\\sxj477\\\\AppData\\\\Local\\\\Temp\\\\tmpllgvmrl5',\n",
       " 'g2np': <gams2numpy.Gams2Numpy at 0x23e17ec1790>,\n",
       " 'name': 'testdb1',\n",
       " 'export_settings': {'dropattrs': ['database', 'ws', 'g2np'],\n",
       "  'data_folder': 'C:\\\\Users\\\\sxj477\\\\Documents\\\\GitHub\\\\pyDatabases'},\n",
       " 'database': <gams.database.GamsDatabase at 0x23e17ec1700>,\n",
       " 'series': <pyDatabases.gpyDB.gpyDB.SeriesDB at 0x23e17ec17c0>}"
      ]
     },
     "execution_count": 4,
     "metadata": {},
     "output_type": "execute_result"
    }
   ],
   "source": [
    "db.__dict__"
   ]
  },
  {
   "cell_type": "markdown",
   "id": "8ad93466-fffd-4fe4-a1c8-34b8410270bd",
   "metadata": {},
   "source": [
    "The database has a number of base methods implemented to emphasize that the main object of interest is the ```self.series``` database:\n",
    "* ```self.__iter__```:  Works through ```self.series.__iter__```; thus, iterates through the ```gpy``` symbols stored in this database. \n",
    "* ```self.__len__```: Works through ```self.series.__len__```. Returns the number of symbols in this database.\n",
    "* ```self.__getitem__(self,item)```: Works through ```self.series.__getitem__```; thus, gets the ```gpy``` symbol with name ```item```. If it cannot find 'item', it looks for potential aliases (see ```self.alias``` method for more).\n",
    "* ```self.__setitem__(self,item,value)```: Works through ```self.series.__setitem__```; thus, it creates a ```gpy``` instance from ```value``` and stores in ```self.series```.\n",
    "* ```self.__getstate__```: Specifies how to pickle an instance of the class. All attributes not in ```self.export_settings['dropattrs']``` are written to the pickle. The ```self.database``` can be stored alongside the pickled file by not including 'database' in ```self.export_settings['dropattrs']```. In this case ```self.database``` is written to a gdx file in ```self.export_settings['data_folder']``` with the name ```f\"{self.name}.gdx\"```.\n",
    "* ```self.__setstate__```: Specifies how a pickled instance of the class can be loaded using pickling. All attributes except three are read from the pickle: The attributes ('ws','g2np','database') are defined by: \n",
    "    * ```self.ws``` is initialized from ```self.work_folder```.\n",
    "    * ```self.g2np``` is then initialized from ```self.ws```. \n",
    "    * ```self.database``` is opened from the stored gdx file if 'database' is not in ```self.export_settings['dropattrs']```. Else a new empty database is initialized from ```self.ws```.\n",
    "    \n",
    "    If ```self.series``` is not stored in the pickle (by adding it to ```self.export_settings['dropattrs']```), this is read from the ```self.database``` attribute."
   ]
  },
  {
   "cell_type": "markdown",
   "id": "ae8a8939-527a-4a5e-9df9-51a2fdee73a2",
   "metadata": {},
   "source": [
    "### 1: Initialization"
   ]
  },
  {
   "cell_type": "markdown",
   "id": "0fde77a6-df41-4c46-9913-ccc4951a9cb1",
   "metadata": {},
   "source": [
    "The ```GpyDB``` class can be initialized by specifying a file (```pickle_path```) or a database. The format of the database may vary, and various kwargs adjusts the initialization."
   ]
  },
  {
   "cell_type": "markdown",
   "id": "a843e9b1-9900-45ce-af50-f3082363030d",
   "metadata": {},
   "source": [
    "#### 1.1 From pickle"
   ]
  },
  {
   "cell_type": "markdown",
   "id": "5927c0aa-190e-40a8-8ebf-9a26c010c79e",
   "metadata": {},
   "source": [
    "Init from a pickle we can use two keyword arguments ('ws', 'alias'). The 'ws' argument specifies which workspace to initialize the ```self.database``` from. The 'ws' argument can either be ```None```, ```str``` (repository for workspace), ```gams.GamsWorkspace``` (use this). The 'alias' argument is always used. See ```self.alias``` methods for more."
   ]
  },
  {
   "cell_type": "code",
   "execution_count": 5,
   "id": "1a1fcd81-62cf-4250-a46a-d170e6dcbbd2",
   "metadata": {},
   "outputs": [],
   "source": [
    "ws_options = [None, os.getcwd(), gams.GamsWorkspace()] # open from None, string, or GamsWorkspace\n",
    "db = GpyDB(pickle_path = data+'\\\\testdb1', ws =ws_options[0])"
   ]
  },
  {
   "cell_type": "markdown",
   "id": "6166b914-bacf-49dc-b3fd-17d7b4d63073",
   "metadata": {},
   "source": [
    "#### 1.2 From db"
   ]
  },
  {
   "cell_type": "markdown",
   "id": "e1d8e336-09b0-44a9-872c-ead079294caa",
   "metadata": {},
   "source": [
    "The ```db``` argument can be a couple of different types. As a dictionary we initialize like the pickle, and thus only adjusts for the workspace/alias arguments:"
   ]
  },
  {
   "cell_type": "code",
   "execution_count": 6,
   "id": "b13dab75-4f28-4266-a6e6-ca74b4b0084d",
   "metadata": {},
   "outputs": [],
   "source": [
    "db =GpyDB(db = db.__dict__, ws = ws_options[1]) # identical to pickle, but opens in a new workspace"
   ]
  },
  {
   "cell_type": "markdown",
   "id": "f20aa3df-4859-4383-a32a-606df5bba71f",
   "metadata": {},
   "source": [
    "We can also initialize with a ```GpyDB```. This also only use the ws/alias arguments:"
   ]
  },
  {
   "cell_type": "code",
   "execution_count": 7,
   "id": "1d2fc957-806a-4150-9ff6-8ba1d21c315c",
   "metadata": {},
   "outputs": [],
   "source": [
    "db = GpyDB(db = db, ws = ws_options[2]) # identical to pickle, but opens in a new workspace"
   ]
  },
  {
   "cell_type": "markdown",
   "id": "facc005c-b426-4344-88c9-a432c2700bbf",
   "metadata": {},
   "source": [
    "Finally, the fallback option goes through the steps:\n",
    "1. Initialize ```self.ws``` from 'ws' argument. \n",
    "2. Initialize ```self.g2np``` from ```self.ws```.\n",
    "3. Set ```self.name``` from ```**kwargs```. Default is 'rname'. We use a versionized name that depends on what ```self.ws``` we are working in to make sure that names are unique.\n",
    "4. Set ```self.export_settings``` with a default of ```self.export_settings['dropattrs'] = ['database,'ws','g2np']```. We can adjust the ```self.export_settings['data_folder']``` with kwargs.\n",
    "5. The 'db' options is used:\n",
    "    * If 'db' is ```None```: Initialize ```self.database``` as an empty database with name ```self.name```.\n",
    "    * If 'db' is ```str```: Initialize ```self.database``` from gdx file 'db' and set name to ```self.name```.\n",
    "    * If 'db' is ```gams.GamsDatabase``` : Initialize ```self.database```from this 'db' and set name to ```self.name```.\n",
    "    * If 'db' is ```GpyDB```: Initialize ```self.database``` from ```GpyDB.database```and set name to ```self.name```.\n",
    "6. Initialize ```self.series``` as a ```Database.SeriesDB``` database using the source ```self.database```.\n",
    "7. Update alias (see ```self.alias``` method).\n",
    "\n",
    "Examples:"
   ]
  },
  {
   "cell_type": "markdown",
   "id": "4226e1ff-2f8e-4728-b3f4-9f50cde48dd5",
   "metadata": {},
   "source": [
    "*Initialize empty, set name and data folder:*"
   ]
  },
  {
   "cell_type": "code",
   "execution_count": 8,
   "id": "40733cbe-3570-4969-a69e-0df16791becd",
   "metadata": {},
   "outputs": [
    {
     "data": {
      "text/plain": [
       "{'ws': <gams.workspace.GamsWorkspace at 0x23e268acbb0>,\n",
       " 'work_folder': 'C:\\\\Users\\\\sxj477\\\\AppData\\\\Local\\\\Temp\\\\tmpijwhdjlr',\n",
       " 'g2np': <gams2numpy.Gams2Numpy at 0x23e268ee3a0>,\n",
       " 'name': 'emptydb',\n",
       " 'export_settings': {'dropattrs': ['database', 'ws', 'g2np'],\n",
       "  'data_folder': 'C:\\\\Users\\\\sxj477\\\\Documents\\\\GitHub\\\\pyDatabases'},\n",
       " 'database': <gams.database.GamsDatabase at 0x23e268ee760>,\n",
       " 'series': <pyDatabases.gpyDB.gpyDB.SeriesDB at 0x23e268ee0a0>}"
      ]
     },
     "execution_count": 8,
     "metadata": {},
     "output_type": "execute_result"
    }
   ],
   "source": [
    "db = GpyDB(**{'name': 'emptydb','data_folder': os.getcwd()})\n",
    "db.__dict__"
   ]
  },
  {
   "cell_type": "markdown",
   "id": "712cec8d-298c-4239-8f26-9e9657ff52f0",
   "metadata": {},
   "source": [
    "*Initialize from str/gdx:*"
   ]
  },
  {
   "cell_type": "code",
   "execution_count": 9,
   "id": "74c7e518-1781-4546-9503-685c9cadba22",
   "metadata": {},
   "outputs": [
    {
     "data": {
      "text/plain": [
       "{'ws': <gams.workspace.GamsWorkspace at 0x23e268e1f10>,\n",
       " 'work_folder': 'C:\\\\Users\\\\sxj477\\\\AppData\\\\Local\\\\Temp\\\\tmpc4uk3_k7',\n",
       " 'g2np': <gams2numpy.Gams2Numpy at 0x23e263f3c10>,\n",
       " 'name': 'fromgdx',\n",
       " 'export_settings': {'dropattrs': ['database', 'ws', 'g2np'],\n",
       "  'data_folder': 'C:\\\\Users\\\\sxj477\\\\Documents\\\\GitHub\\\\pyDatabases'},\n",
       " 'database': <gams.database.GamsDatabase at 0x23e263f3dc0>,\n",
       " 'series': <pyDatabases.gpyDB.gpyDB.SeriesDB at 0x23e263f32e0>}"
      ]
     },
     "execution_count": 9,
     "metadata": {},
     "output_type": "execute_result"
    }
   ],
   "source": [
    "db = GpyDB(db=fs[0], **{'name':'fromgdx'})\n",
    "db.__dict__"
   ]
  },
  {
   "cell_type": "markdown",
   "id": "5d6b79b7-a719-4846-bd24-c0f29e6d1b3a",
   "metadata": {},
   "source": [
    "*Initialize from gams.GamsDatabase:*"
   ]
  },
  {
   "cell_type": "code",
   "execution_count": 10,
   "id": "2fa553c4-6870-4087-9285-9997b7a64bcd",
   "metadata": {},
   "outputs": [
    {
     "data": {
      "text/plain": [
       "{'ws': <gams.workspace.GamsWorkspace at 0x23e268f55e0>,\n",
       " 'work_folder': 'C:\\\\Users\\\\sxj477\\\\AppData\\\\Local\\\\Temp\\\\tmpmdvwyhq7',\n",
       " 'g2np': <gams2numpy.Gams2Numpy at 0x23e268e18e0>,\n",
       " 'name': 'fromgams',\n",
       " 'export_settings': {'dropattrs': ['database', 'ws', 'g2np'],\n",
       "  'data_folder': 'C:\\\\Users\\\\sxj477\\\\Documents\\\\GitHub\\\\pyDatabases'},\n",
       " 'database': <gams.database.GamsDatabase at 0x23e268ac910>,\n",
       " 'series': <pyDatabases.gpyDB.gpyDB.SeriesDB at 0x23e263f30d0>}"
      ]
     },
     "execution_count": 10,
     "metadata": {},
     "output_type": "execute_result"
    }
   ],
   "source": [
    "db = GpyDB(db = db.database, **{'name': 'fromgams'})\n",
    "db.__dict__"
   ]
  },
  {
   "cell_type": "markdown",
   "id": "fba5366c-1cf8-4356-ab96-a23047eda59e",
   "metadata": {},
   "source": [
    "### 2: Methods"
   ]
  },
  {
   "cell_type": "markdown",
   "id": "523aefb3-fecc-4210-8185-4df5a7d8c81b",
   "metadata": {},
   "source": [
    "To keep the database relatively small and efficient we build functionality from other classes (```DbWheels_```). The core functionality in the ```GpyDB``` is limited to the following:\n",
    "* **Properties:**\n",
    "    * ```self.symbols```: Returns the dictionary ```self.series.database``` with ```gpy``` symbols; keys = symbol.name, value = symbol.\n",
    "    * ```self.alias_dict```: Returns a dictionary with mapping from sets to its aliases. Key = set, value = list of aliases.\n",
    "    * ```self.alias_dict0```: As ```self.alias_dict```, with the set itself added to the list in values. \n",
    "    * ```self.alias_notin_db```: Returns ```set``` of aliases that are not in the database itself.\n",
    "* **Basic methods:**\n",
    "    * ```self.get(self,item)```: Returns the ```self.series.database['item'].vals``` (pandas like representation). If 'item' is not in the database it searches for an alias.\n",
    "    * ```self.getTypes(self,types)```: Returns ```self.symbols``` for symbols that are of type 'types'; should be iterative and specify ```gpy.type``` types.\n",
    "    * ```self.copy(self,dropattrs=['database'],**kwargs)```: Return copy of the database without attributes in 'dropattrs'; kwargs is used to modify attributes.\n",
    "    * ```self.domains_unique(self,x)```: Returns list of sets that a symbol 'x' is defined over. If it is defined over aliased sets, this only returns the parent set.\n",
    "    * ```self.vardom(self,set_,types=['parameter','variable'])```: Returns a dictionary with key = set_ (includes aliases), and values = list of symbols of type 'types' that have 'set_i' in its domains.\n",
    "    * ```self.merge_internal(self,merge=True)```: Merges ```self.series``` into ```self.database```.  If 'merge' is set to ```False``` symbols are replaced in ```self.database```."
   ]
  },
  {
   "cell_type": "markdown",
   "id": "af118bd4-295d-40b7-ad37-e0eb0c7ea69b",
   "metadata": {},
   "source": [
    "*Examples:*"
   ]
  },
  {
   "cell_type": "code",
   "execution_count": 11,
   "id": "03aa75e0-27c3-43e6-91fe-d4b5aebe5a52",
   "metadata": {},
   "outputs": [
    {
     "data": {
      "text/plain": [
       "{'alias_set': <pyDatabases.gpyDB._database.gpy at 0x23e268f5be0>,\n",
       " 'alias_map2': <pyDatabases.gpyDB._database.gpy at 0x23e268f59a0>,\n",
       " 'i': <pyDatabases.gpyDB._database.gpy at 0x23e268f56a0>,\n",
       " 'j': <pyDatabases.gpyDB._database.gpy at 0x23e268f5910>,\n",
       " 'alias_': <pyDatabases.gpyDB._database.gpy at 0x23e27921400>,\n",
       " 'map': <pyDatabases.gpyDB._database.gpy at 0x23e268f5940>,\n",
       " 'var': <pyDatabases.gpyDB._database.gpy at 0x23e268f5730>,\n",
       " 'var1d': <pyDatabases.gpyDB._database.gpy at 0x23e268f5eb0>,\n",
       " 'param': <pyDatabases.gpyDB._database.gpy at 0x23e268f5d30>,\n",
       " 'scalar': <pyDatabases.gpyDB._database.gpy at 0x23e268f5fd0>,\n",
       " 'pscalar': <pyDatabases.gpyDB._database.gpy at 0x23e268f5d00>,\n",
       " 'subset': <pyDatabases.gpyDB._database.gpy at 0x23e27921280>}"
      ]
     },
     "execution_count": 11,
     "metadata": {},
     "output_type": "execute_result"
    }
   ],
   "source": [
    "db.symbols"
   ]
  },
  {
   "cell_type": "code",
   "execution_count": 12,
   "id": "49ac1ef2-66e8-4112-86dd-c81bf6888e7a",
   "metadata": {},
   "outputs": [
    {
     "data": {
      "text/plain": [
       "i  j  \n",
       "1  1      10.0\n",
       "   0      10.0\n",
       "   2      10.0\n",
       "   3      10.0\n",
       "   4      10.0\n",
       "          ... \n",
       "   995    10.0\n",
       "   996    10.0\n",
       "   997    10.0\n",
       "   998    10.0\n",
       "   999    10.0\n",
       "Name: level, Length: 1000, dtype: object"
      ]
     },
     "execution_count": 12,
     "metadata": {},
     "output_type": "execute_result"
    }
   ],
   "source": [
    "db.get('var')"
   ]
  },
  {
   "cell_type": "code",
   "execution_count": 13,
   "id": "653b4ded-5c7d-4ce9-8631-3c82ed331ace",
   "metadata": {},
   "outputs": [
    {
     "data": {
      "text/plain": [
       "{'var': <pyDatabases.gpyDB._database.gpy at 0x23e268f5730>,\n",
       " 'var1d': <pyDatabases.gpyDB._database.gpy at 0x23e268f5eb0>}"
      ]
     },
     "execution_count": 13,
     "metadata": {},
     "output_type": "execute_result"
    }
   ],
   "source": [
    "db.getTypes(['variable'])"
   ]
  },
  {
   "cell_type": "code",
   "execution_count": 14,
   "id": "29bf251e-d43f-4508-9ec8-6ab307a0ab06",
   "metadata": {},
   "outputs": [
    {
     "data": {
      "text/plain": [
       "{'ws': <gams.workspace.GamsWorkspace at 0x23e268f55e0>,\n",
       " 'work_folder': 'C:\\\\Users\\\\sxj477\\\\AppData\\\\Local\\\\Temp\\\\tmpmdvwyhq7',\n",
       " 'g2np': <gams2numpy.Gams2Numpy at 0x23e263f3d00>,\n",
       " 'name': 'fromgams_0',\n",
       " 'export_settings': {'dropattrs': ['database', 'ws', 'g2np'],\n",
       "  'data_folder': 'C:\\\\Users\\\\sxj477\\\\Documents\\\\GitHub\\\\pyDatabases'},\n",
       " 'database': <gams.database.GamsDatabase at 0x23e159f2a30>,\n",
       " 'series': <pyDatabases.gpyDB.gpyDB.SeriesDB at 0x23e263f34c0>}"
      ]
     },
     "execution_count": 14,
     "metadata": {},
     "output_type": "execute_result"
    }
   ],
   "source": [
    "db_copy = db.copy()\n",
    "db_copy.__dict__"
   ]
  },
  {
   "cell_type": "code",
   "execution_count": 15,
   "id": "50995f37-3197-4907-8249-ccc04acbe50d",
   "metadata": {},
   "outputs": [
    {
     "data": {
      "text/plain": [
       "['i', 'j']"
      ]
     },
     "execution_count": 15,
     "metadata": {},
     "output_type": "execute_result"
    }
   ],
   "source": [
    "db.domains_unique('var')"
   ]
  },
  {
   "cell_type": "code",
   "execution_count": 16,
   "id": "4545fdb9-59b9-4920-a92c-3d14fc0813d2",
   "metadata": {},
   "outputs": [
    {
     "data": {
      "text/plain": [
       "{'j': ['map', 'var', 'param']}"
      ]
     },
     "execution_count": 16,
     "metadata": {},
     "output_type": "execute_result"
    }
   ],
   "source": [
    "db.vardom('j',types=['parameter','variable','mapping']) # symbols defined over the domain 'j'"
   ]
  },
  {
   "cell_type": "code",
   "execution_count": 17,
   "id": "e20e5f13-9e4a-483a-adc4-bede196ef2b0",
   "metadata": {},
   "outputs": [],
   "source": [
    "db.merge_internal()"
   ]
  },
  {
   "cell_type": "markdown",
   "id": "1cba8b6d-c164-4346-8000-091be0a51693",
   "metadata": {},
   "source": [
    "### 3: Alias methods"
   ]
  },
  {
   "cell_type": "markdown",
   "id": "d935964b-da00-46f6-b8de-590784d5af92",
   "metadata": {},
   "source": [
    "We keep track of aliased symbols using a few database entries. The two-dimensional multiindex 'alias_' maps from sets that are aliased ('alias_set'), to the aliases ('alias_map2'). These three symbols are always carried along and cannot be changed. If no aliases are provided, these are simply empty sets/mappings:"
   ]
  },
  {
   "cell_type": "code",
   "execution_count": 18,
   "id": "371f041e-3dd7-462e-80cc-a64727359935",
   "metadata": {},
   "outputs": [
    {
     "data": {
      "text/plain": [
       "MultiIndex([], names=['alias_set', 'alias_map2'])"
      ]
     },
     "execution_count": 18,
     "metadata": {},
     "output_type": "execute_result"
    }
   ],
   "source": [
    "db.get('alias_')"
   ]
  },
  {
   "cell_type": "markdown",
   "id": "30e9f791-dd0e-4dd8-b610-f64881a16c4d",
   "metadata": {},
   "source": [
    "Aliases are updated using the ```self.update_alias``` method that takes a suitable multiindex as input. This, for instance, defines an alias to the set 'j' called 'jj':"
   ]
  },
  {
   "cell_type": "code",
   "execution_count": 19,
   "id": "c13d114f-4d2d-4bb5-8e4d-cfd643a17302",
   "metadata": {},
   "outputs": [
    {
     "data": {
      "text/plain": [
       "MultiIndex([('j', 'jj')],\n",
       "           names=['alias_set', 'alias_map2'])"
      ]
     },
     "execution_count": 19,
     "metadata": {},
     "output_type": "execute_result"
    }
   ],
   "source": [
    "db.update_alias(pd.MultiIndex.from_tuples([('j','jj')]))\n",
    "db.get('alias_')"
   ]
  },
  {
   "cell_type": "markdown",
   "id": "519471b8-df01-4ebd-a5c5-cfe2b4028e39",
   "metadata": {},
   "source": [
    "The ```self.alias_dict```, ```self.alias_dict0``` methods returns this set as mapping (dict):"
   ]
  },
  {
   "cell_type": "code",
   "execution_count": 20,
   "id": "95407987-bf79-4fca-9ed4-8961ebe76658",
   "metadata": {},
   "outputs": [
    {
     "data": {
      "text/plain": [
       "({'j': Index(['jj'], dtype='object', name='alias_map2')},\n",
       " {'j': Index(['j', 'jj'], dtype='object', name='alias_map2')})"
      ]
     },
     "execution_count": 20,
     "metadata": {},
     "output_type": "execute_result"
    }
   ],
   "source": [
    "db.alias_dict,db.alias_dict0"
   ]
  },
  {
   "cell_type": "markdown",
   "id": "cf2b0fdf-f555-497f-9e07-b771c4b489cc",
   "metadata": {},
   "source": [
    "The ```self.alias(x,index_=0)``` method uses this to return aliased symbols from the index 'index_' referring to its element in ```self.alias_dict0```:"
   ]
  },
  {
   "cell_type": "code",
   "execution_count": 21,
   "id": "926e2b8e-b019-435e-bab0-5f735f5f6a12",
   "metadata": {},
   "outputs": [
    {
     "data": {
      "text/plain": [
       "('j', 'jj')"
      ]
     },
     "execution_count": 21,
     "metadata": {},
     "output_type": "execute_result"
    }
   ],
   "source": [
    "(db.alias('j'), db.alias('j',1))"
   ]
  },
  {
   "cell_type": "markdown",
   "id": "4265419f-13f1-4bde-89e3-40ee236b0065",
   "metadata": {},
   "source": [
    "If we use the method on a set that is not aliased, and ```index_0=0``` the method returns the set itself:"
   ]
  },
  {
   "cell_type": "code",
   "execution_count": 22,
   "id": "948d9216-1107-4a65-9e7d-2ef71e540cdf",
   "metadata": {},
   "outputs": [
    {
     "data": {
      "text/plain": [
       "'i'"
      ]
     },
     "execution_count": 22,
     "metadata": {},
     "output_type": "execute_result"
    }
   ],
   "source": [
    "db.alias('i')"
   ]
  },
  {
   "cell_type": "markdown",
   "id": "a51cc867-0d8c-4804-b99d-dcb175605ed7",
   "metadata": {},
   "source": [
    "If we use this on a variable or similar, we get a ``` TypeError```:"
   ]
  },
  {
   "cell_type": "code",
   "execution_count": 23,
   "id": "0e87c244-139e-4bd9-bbfa-01a3b58ed336",
   "metadata": {},
   "outputs": [
    {
     "name": "stdout",
     "output_type": "stream",
     "text": [
      "var is not aliased\n"
     ]
    }
   ],
   "source": [
    "v = 'var'\n",
    "try:\n",
    "    db.alias(v)\n",
    "except TypeError:\n",
    "    print(f\"{v} is not aliased\")"
   ]
  }
 ],
 "metadata": {
  "kernelspec": {
   "display_name": "Python 3 (ipykernel)",
   "language": "python",
   "name": "python3"
  },
  "language_info": {
   "codemirror_mode": {
    "name": "ipython",
    "version": 3
   },
   "file_extension": ".py",
   "mimetype": "text/x-python",
   "name": "python",
   "nbconvert_exporter": "python",
   "pygments_lexer": "ipython3",
   "version": "3.9.7"
  }
 },
 "nbformat": 4,
 "nbformat_minor": 5
}
