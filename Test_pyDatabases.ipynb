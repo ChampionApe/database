{
 "cells": [
  {
   "cell_type": "code",
   "execution_count": 1,
   "id": "186eb6f2-5c8a-4cb1-a8d7-45fea6d60163",
   "metadata": {},
   "outputs": [],
   "source": [
    "import os, pyDatabases\n",
    "testfile = os.path.join(os.getcwd(), 'testdata', 'test_read.xlsx')"
   ]
  },
  {
   "cell_type": "markdown",
   "id": "e6906829-ae7f-4331-bc20-97dbd37db55b",
   "metadata": {},
   "source": [
    "The structure of the model:\n",
    "* In the outer-most level, we load all methods from ```_mixedTools.py``` and selected ones from ```gpyDB``` module (```gpy, GpyDB```).\n",
    "* In the next level, we include four modules: ```gpyDB, simpleDB, gpyDB_wheels, simpleDB_wheels```. Here, two of them are core (```gpyDB, simpleDB```) and the others are auxiliary (i.e. they depend on the two core modules):\n",
    "    * ```gpyDB```: \n",
    "        * The module also imports all methods from ```_mixedTools.py```. We can access this from module from ```pyDatabases.gpyDB``` or ```from pyDatabases import gpyDB```.\n",
    "        * The module includes all methods from ```gpyDB._database.py```. \n",
    "        * The main classes here are ```SeriesDB``` and ```GpyDB```. These are both database classes."
   ]
  },
  {
   "cell_type": "markdown",
   "id": "2492217d-0a5f-4d3d-a697-e7fb25a77d6b",
   "metadata": {},
   "source": [
    "### Outer-most level:"
   ]
  },
  {
   "cell_type": "markdown",
   "id": "8e53313b-7601-4fd0-9a3e-c473e7229de1",
   "metadata": {},
   "source": [
    "*Methods from ```_mixedTools```:*"
   ]
  },
  {
   "cell_type": "code",
   "execution_count": 2,
   "id": "a3c68c44-3e05-4a30-902c-53a14a71ce88",
   "metadata": {},
   "outputs": [
    {
     "data": {
      "text/plain": [
       "<function pyDatabases._mixedTools.cartesianProductIndex(indices)>"
      ]
     },
     "execution_count": 2,
     "metadata": {},
     "output_type": "execute_result"
    }
   ],
   "source": [
    "pyDatabases.cartesianProductIndex"
   ]
  },
  {
   "cell_type": "markdown",
   "id": "68d3fae3-7871-4746-8be4-3373edd64bcb",
   "metadata": {},
   "source": [
    "*Selected methods from ```gpyDB```:*"
   ]
  },
  {
   "cell_type": "code",
   "execution_count": 3,
   "id": "d4fb6528-f7db-4ea2-9c7a-88d8943460f8",
   "metadata": {},
   "outputs": [
    {
     "data": {
      "text/plain": [
       "(pyDatabases.gpyDB._database.gpy, pyDatabases.gpyDB.gpyDB.GpyDB)"
      ]
     },
     "execution_count": 3,
     "metadata": {},
     "output_type": "execute_result"
    }
   ],
   "source": [
    "pyDatabases.gpy, pyDatabases.GpyDB"
   ]
  },
  {
   "cell_type": "markdown",
   "id": "6f1f34d2-ecc0-429d-9183-65c264f85c41",
   "metadata": {},
   "source": [
    "### Module: ```gpyDB```"
   ]
  },
  {
   "cell_type": "markdown",
   "id": "b85d4344-3fdc-481a-85d7-7dc21181840a",
   "metadata": {},
   "source": [
    "We access the module either by importing or using ```.dot```-notation:"
   ]
  },
  {
   "cell_type": "code",
   "execution_count": 4,
   "id": "a8a82315-2440-450b-8f14-fc4cd25e23ce",
   "metadata": {},
   "outputs": [
    {
     "data": {
      "text/plain": [
       "True"
      ]
     },
     "execution_count": 4,
     "metadata": {},
     "output_type": "execute_result"
    }
   ],
   "source": [
    "from pyDatabases import gpyDB\n",
    "pyDatabases.gpyDB is gpyDB"
   ]
  },
  {
   "cell_type": "markdown",
   "id": "d102eaa6-3fe4-484e-8b5a-4ba9c4ee81e5",
   "metadata": {},
   "source": [
    "We can also access ```_mixedTools``` methods from this module:"
   ]
  },
  {
   "cell_type": "code",
   "execution_count": 5,
   "id": "9d75ef47-0707-4964-8edd-330b9e240a82",
   "metadata": {},
   "outputs": [
    {
     "data": {
      "text/plain": [
       "True"
      ]
     },
     "execution_count": 5,
     "metadata": {},
     "output_type": "execute_result"
    }
   ],
   "source": [
    "gpyDB.cartesianProductIndex is pyDatabases.cartesianProductIndex"
   ]
  },
  {
   "cell_type": "markdown",
   "id": "2433e9a8-6076-45b0-b473-f41d33d2c04d",
   "metadata": {},
   "source": [
    "We access the ```_database``` methods directly:"
   ]
  },
  {
   "cell_type": "code",
   "execution_count": 6,
   "id": "5756c5a2-f3b4-4ea1-a3d2-635486030d0a",
   "metadata": {},
   "outputs": [
    {
     "data": {
      "text/plain": [
       "<function pyDatabases.gpyDB._database.symbols_db(db)>"
      ]
     },
     "execution_count": 6,
     "metadata": {},
     "output_type": "execute_result"
    }
   ],
   "source": [
    "gpyDB.symbols_db"
   ]
  },
  {
   "cell_type": "code",
   "execution_count": 7,
   "id": "11bc6415-f5b2-47d3-8f23-cdc2c75dc4a8",
   "metadata": {},
   "outputs": [
    {
     "data": {
      "text/plain": [
       "pyDatabases.gpyDB.gpyDB.SeriesDB"
      ]
     },
     "execution_count": 7,
     "metadata": {},
     "output_type": "execute_result"
    }
   ],
   "source": [
    "pyDatabases.gpyDB.SeriesDB"
   ]
  }
 ],
 "metadata": {
  "kernelspec": {
   "display_name": "Python 3 (ipykernel)",
   "language": "python",
   "name": "python3"
  },
  "language_info": {
   "codemirror_mode": {
    "name": "ipython",
    "version": 3
   },
   "file_extension": ".py",
   "mimetype": "text/x-python",
   "name": "python",
   "nbconvert_exporter": "python",
   "pygments_lexer": "ipython3",
   "version": "3.9.7"
  }
 },
 "nbformat": 4,
 "nbformat_minor": 5
}
