{
 "cells": [
  {
   "cell_type": "code",
   "execution_count": 1,
   "id": "cbe4c5bc-2b38-49c0-921d-d1d095155e62",
   "metadata": {},
   "outputs": [],
   "source": [
    "import os, gams, pandas as pd, numpy as np, gams2numpy, shutil,pickle,pyDatabases\n",
    "from pyDatabases import gpy, GpyDB\n",
    "from pyDatabases.gpyDB.gpyDB import SeriesDB\n",
    "data = os.path.join(os.getcwd(), 'testdata')"
   ]
  },
  {
   "cell_type": "markdown",
   "id": "336655c9-1fc6-48b9-9b24-d29efaf16326",
   "metadata": {},
   "source": [
    "*Load test databases:*"
   ]
  },
  {
   "cell_type": "code",
   "execution_count": 2,
   "id": "b777eada-9b1a-484f-bee5-0f5afcf44e4c",
   "metadata": {},
   "outputs": [],
   "source": [
    "fs = [f\"{data}\\\\test_size1000.gdx\", f\"{data}\\\\baselinerun.gdx\"] # files\n",
    "ws = gams.GamsWorkspace() \n",
    "g2np = gams2numpy.Gams2Numpy(ws.system_directory)\n",
    "dbs = {'gms1': ws.add_database_from_gdx(fs[0]), 'gms2': ws.add_database_from_gdx(fs[1]),\n",
    "       'gpy1': GpyDB(db=fs[0]), 'gpy2': GpyDB(db=fs[1])}"
   ]
  },
  {
   "cell_type": "markdown",
   "id": "7756ef67-66e7-43cf-a75f-2023f2621d75",
   "metadata": {
    "tags": []
   },
   "source": [
    "# ```SeriesDB```"
   ]
  },
  {
   "cell_type": "markdown",
   "id": "b475fb28-f159-4fdd-aa2a-272b48d8abc2",
   "metadata": {
    "tags": []
   },
   "source": [
    "This class is very simple: The ```self.database``` is a dictionary with ```gpy``` symbols stored as values and keys = ```symbol.name```. The only real reason for using this class, is to adjust a few basic methods, such that they essentially work like ```gams.GamsDatabases```. The class is only initialized with a single attribute:\n",
    "\n",
    "```python\n",
    "class SeriesDB:\n",
    "```  \n",
    "* ```database:``` Dictionary with ```gpy``` symbols as values and keys = ```symbol.name```. \n",
    "\n",
    "A few basic methods are defined for the class to help e.g. with various iteration schemes:\n",
    "* ```self.__iter__```: Works on ```self.database.values```. Thus, iteration automatically goes through ```gpy``` symbols (as iteration through ```gams.gamsDatabase``` iterates through ```gams._GamsSymbol```).\n",
    "* ```self.__len__```: Works on ```self.database``` (looks at length of dictionary).\n",
    "* ```self.__getitem__(self,item)```: Works on ```self.database``` (looks in dictionary).\n",
    "* ```self.__setitem__(self,item,value)```: Works on ```self.database```. Sets the value in ```self.database[item]``` using the ```gpy``` class. Thus, ```value``` should conform to the input type that ```gpy``` can be initialized with.\n",
    "* ```self.__delitem__(self,item)```: Works on ```self.database``` (removes ```item``` from dictionary).\n",
    "* ```self.copy()```."
   ]
  },
  {
   "cell_type": "markdown",
   "id": "8a5c31bd-72ed-46db-af09-0892caee96fc",
   "metadata": {},
   "source": [
    "*Type:*"
   ]
  },
  {
   "cell_type": "code",
   "execution_count": 3,
   "id": "3f3ccad2-775f-4847-8ddd-b35857a0da37",
   "metadata": {},
   "outputs": [
    {
     "data": {
      "text/plain": [
       "pyDatabases.gpyDB.gpyDB.SeriesDB"
      ]
     },
     "execution_count": 3,
     "metadata": {},
     "output_type": "execute_result"
    }
   ],
   "source": [
    "db = dbs['gpy1'].series\n",
    "type(db)"
   ]
  },
  {
   "cell_type": "markdown",
   "id": "366c2ac2-c7ec-452a-a154-f377b18f3cd9",
   "metadata": {},
   "source": [
    "*```self.database```:*"
   ]
  },
  {
   "cell_type": "code",
   "execution_count": 4,
   "id": "450169dd-eddc-4edf-ae02-5ec35f5a0178",
   "metadata": {},
   "outputs": [
    {
     "data": {
      "text/plain": [
       "<pyDatabases.gpyDB._database.gpy at 0x1478a1e6310>"
      ]
     },
     "execution_count": 4,
     "metadata": {},
     "output_type": "execute_result"
    }
   ],
   "source": [
    "db.database['i']"
   ]
  },
  {
   "cell_type": "markdown",
   "id": "883747d0-9849-4cfa-accf-c8c5bd9d903c",
   "metadata": {},
   "source": [
    "*getitem:*"
   ]
  },
  {
   "cell_type": "code",
   "execution_count": 5,
   "id": "3c970500-8213-4e23-be46-018022f29cec",
   "metadata": {},
   "outputs": [
    {
     "data": {
      "text/plain": [
       "True"
      ]
     },
     "execution_count": 5,
     "metadata": {},
     "output_type": "execute_result"
    }
   ],
   "source": [
    "db['i'] == db.database['i']"
   ]
  },
  {
   "cell_type": "markdown",
   "id": "b3a3fcb4-7806-4b56-8eac-f171f0f76843",
   "metadata": {},
   "source": [
    "*setitem:*"
   ]
  },
  {
   "cell_type": "code",
   "execution_count": 6,
   "id": "2f217851-3d77-4a27-b64d-b75d3aade444",
   "metadata": {},
   "outputs": [
    {
     "data": {
      "text/plain": [
       "random_set\n",
       "0    1\n",
       "1    1\n",
       "2    1\n",
       "3    1\n",
       "4    1\n",
       "5    1\n",
       "6    1\n",
       "7    1\n",
       "8    1\n",
       "9    1\n",
       "Name: newsymbol, dtype: int64"
      ]
     },
     "execution_count": 6,
     "metadata": {},
     "output_type": "execute_result"
    }
   ],
   "source": [
    "db['newsymbol'] = pd.Series(1, index = pd.Index(range(10), name = 'random_set'), name = 'newsymbol')\n",
    "db.get('newsymbol')"
   ]
  },
  {
   "cell_type": "markdown",
   "id": "f6c897d4-ea3b-4a2a-8081-194deb574af9",
   "metadata": {},
   "source": [
    "*Iterate:*"
   ]
  },
  {
   "cell_type": "code",
   "execution_count": 7,
   "id": "2a3697c8-b5f2-4794-b2c3-42e69d51f24e",
   "metadata": {},
   "outputs": [
    {
     "data": {
      "text/plain": [
       "[pyDatabases.gpyDB._database.gpy,\n",
       " pyDatabases.gpyDB._database.gpy,\n",
       " pyDatabases.gpyDB._database.gpy,\n",
       " pyDatabases.gpyDB._database.gpy,\n",
       " pyDatabases.gpyDB._database.gpy,\n",
       " pyDatabases.gpyDB._database.gpy,\n",
       " pyDatabases.gpyDB._database.gpy,\n",
       " pyDatabases.gpyDB._database.gpy,\n",
       " pyDatabases.gpyDB._database.gpy,\n",
       " pyDatabases.gpyDB._database.gpy,\n",
       " pyDatabases.gpyDB._database.gpy,\n",
       " pyDatabases.gpyDB._database.gpy,\n",
       " pyDatabases.gpyDB._database.gpy]"
      ]
     },
     "execution_count": 7,
     "metadata": {},
     "output_type": "execute_result"
    }
   ],
   "source": [
    "[type(symbol) for symbol in db]"
   ]
  }
 ],
 "metadata": {
  "kernelspec": {
   "display_name": "Python 3 (ipykernel)",
   "language": "python",
   "name": "python3"
  },
  "language_info": {
   "codemirror_mode": {
    "name": "ipython",
    "version": 3
   },
   "file_extension": ".py",
   "mimetype": "text/x-python",
   "name": "python",
   "nbconvert_exporter": "python",
   "pygments_lexer": "ipython3",
   "version": "3.9.7"
  }
 },
 "nbformat": 4,
 "nbformat_minor": 5
}
