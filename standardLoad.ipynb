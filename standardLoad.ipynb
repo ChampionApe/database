{
 "cells": [
  {
   "cell_type": "code",
   "execution_count": 1,
   "id": "607efb77-81a2-485f-93c7-6910ba2e9c8e",
   "metadata": {},
   "outputs": [],
   "source": [
    "import os\n",
    "testfile = os.path.join(os.getcwd(), 'testdata', 'test_read.xlsx')"
   ]
  },
  {
   "cell_type": "markdown",
   "id": "43957be4-420b-4c98-9bce-066be8f8569d",
   "metadata": {},
   "source": [
    "A standard way to load all the main functionalities (for a ```gpy```-type database) is to use:"
   ]
  },
  {
   "cell_type": "code",
   "execution_count": 2,
   "id": "c25e35a2-7e47-4b97-97f7-04df26d7dd74",
   "metadata": {},
   "outputs": [],
   "source": [
    "import pyDatabases\n",
    "from pyDatabases import gpy, GpyDB, gpyDB, OrdSet, adjMultiIndexDB, adjMultiIndex\n",
    "from pyDatabases.gpyDB_wheels import read, robust, adj, aggregateDB"
   ]
  },
  {
   "cell_type": "markdown",
   "id": "190f5c56-cf24-437a-9ae2-af940ea23902",
   "metadata": {},
   "source": [
    "* ```gpy```: Class of symbols.\n",
    "* ```GpyDB```: Database class.\n",
    "* ```gpyDB```: Module containing classes and auxiliary functions.\n",
    "* ```AdjMultiIndexDB, adjMultiIndex, OrdSet```: Auxiliary methods from ```_MixedTools.py```.\n",
    "* ```read, robust, adj, aggregateDB```: Auxiliary methods from ```gpyDB_wheels```."
   ]
  }
 ],
 "metadata": {
  "kernelspec": {
   "display_name": "Python 3 (ipykernel)",
   "language": "python",
   "name": "python3"
  },
  "language_info": {
   "codemirror_mode": {
    "name": "ipython",
    "version": 3
   },
   "file_extension": ".py",
   "mimetype": "text/x-python",
   "name": "python",
   "nbconvert_exporter": "python",
   "pygments_lexer": "ipython3",
   "version": "3.9.7"
  }
 },
 "nbformat": 4,
 "nbformat_minor": 5
}
