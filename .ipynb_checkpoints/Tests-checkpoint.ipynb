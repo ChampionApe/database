{
 "cells": [
  {
   "cell_type": "markdown",
   "id": "ac429abf-8f55-46c4-b14e-26a591bb8622",
   "metadata": {},
   "source": [
    "### TESTS:"
   ]
  },
  {
   "cell_type": "code",
   "execution_count": 1,
   "id": "f0dd688c-102a-4786-b626-06fe1248c2af",
   "metadata": {},
   "outputs": [],
   "source": [
    "import os\n",
    "from pyDatabases.simpleDB import read\n",
    "from pyDatabases.simpleDB.simpleDB_wheels import readSets\n",
    "testfile = os.path.join(os.getcwd(), 'testdata', 'test_read.xlsx')"
   ]
  },
  {
   "cell_type": "markdown",
   "id": "74bf67a2-f90f-4cd2-aa02-4dbbb363de2e",
   "metadata": {},
   "source": [
    "*Test class ```read```:*"
   ]
  },
  {
   "cell_type": "code",
   "execution_count": 2,
   "id": "ed943b9e-bf01-48b8-b4ed-98de5cc9522c",
   "metadata": {},
   "outputs": [],
   "source": [
    "db = read.dbFromWB(testfile, {'sets': ['_sets'], \n",
    "                              'subsets': ['_subsets'],\n",
    "                              'maps': ['_maps'],\n",
    "                              'variables': ['_variables'],\n",
    "                              'scalars': ['_scalars'],\n",
    "                              'variable2D': ['_variable2D']})"
   ]
  },
  {
   "cell_type": "markdown",
   "id": "c4e7810f-a6fa-4efb-be8b-4e8996d2b39e",
   "metadata": {},
   "source": [
    "*Test ```readSets``` method:*"
   ]
  },
  {
   "cell_type": "code",
   "execution_count": 3,
   "id": "9305bd4b-56b2-4ea4-8f71-6b87e6152ec5",
   "metadata": {},
   "outputs": [],
   "source": [
    "readSets(db)"
   ]
  }
 ],
 "metadata": {
  "kernelspec": {
   "display_name": "Python 3 (ipykernel)",
   "language": "python",
   "name": "python3"
  },
  "language_info": {
   "codemirror_mode": {
    "name": "ipython",
    "version": 3
   },
   "file_extension": ".py",
   "mimetype": "text/x-python",
   "name": "python",
   "nbconvert_exporter": "python",
   "pygments_lexer": "ipython3",
   "version": "3.9.7"
  }
 },
 "nbformat": 4,
 "nbformat_minor": 5
}
