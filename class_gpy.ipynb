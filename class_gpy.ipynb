{
 "cells": [
  {
   "cell_type": "code",
   "execution_count": 1,
   "metadata": {},
   "outputs": [],
   "source": [
    "import os, gams, pandas as pd, numpy as np, gams2numpy, shutil,pickle,pyDatabases\n",
    "from pyDatabases import gpy, GpyDB\n",
    "data = os.path.join(os.getcwd(), 'testdata')"
   ]
  },
  {
   "cell_type": "markdown",
   "metadata": {},
   "source": [
    "*Load test databases:*"
   ]
  },
  {
   "cell_type": "code",
   "execution_count": 2,
   "metadata": {},
   "outputs": [],
   "source": [
    "fs = [f\"{data}\\\\test_size1000.gdx\", f\"{data}\\\\baselinerun.gdx\"] # files\n",
    "ws = gams.GamsWorkspace() \n",
    "g2np = gams2numpy.Gams2Numpy(ws.system_directory)\n",
    "dbs = {'gms1': ws.add_database_from_gdx(fs[0]), 'gms2': ws.add_database_from_gdx(fs[1]),\n",
    "       'gpy1': GpyDB(db=fs[0]), 'gpy2': GpyDB(db=fs[1])}"
   ]
  },
  {
   "cell_type": "markdown",
   "metadata": {
    "tags": []
   },
   "source": [
    "# gpy"
   ]
  },
  {
   "cell_type": "markdown",
   "metadata": {},
   "source": [
    "*gpyDB* facilitates interaction with GAMS databases from Python using pandas and the Python API from GAMS. This notebook briefly goes through *gpy* class."
   ]
  },
  {
   "cell_type": "markdown",
   "metadata": {
    "tags": []
   },
   "source": [
    "The supertype for symbols used in GAMS (akin to ```gams._GamsSymbol```). Instances of this class are initialized in one of three ways and always specifies four attributes:\n",
    "\n",
    "```python\n",
    "class gpy:\n",
    "```  \n",
    "* ```vals:``` Pandas representation of the symbol. The type of pandas representation depends on the ```self.type``` of the symbol. \n",
    "* ```name:``` Name of the symbol.  \n",
    "* ```type:``` Subtype of symbol \\{'set', 'subset', 'mapping', 'scalar_variable', 'scalar_parameter', 'variable', 'parameter'\\}.\n",
    "* ```text:``` description of symbol.\n",
    "\n",
    "A few basic methods are defined for the class to help e.g. with various iteration schemes:\n",
    "* ```self.__iter__```: Works on ```self.vals```. Thus, iteration automatically goes through pandas representation of the symbol.\n",
    "* ```self.__len__```: Works on ```self.vals```. Thus, length looks at length of pandas representation.\n",
    "* ```self.items()```: Works on ```self.__dict__```. \n",
    "* ```self.copy()```."
   ]
  },
  {
   "cell_type": "markdown",
   "metadata": {},
   "source": [
    "### 1: Subtypes\n",
    "The pandas representation can ```pd.Index```, ```pd.MultiIndex```, ```pd.Series```, or simply a scalar (see variable ```DataBase.admissable_py_types```), depending on the subtype. In general, sets, subsets, and mappings are defined as pandas indices and parameters/variables are defined as pandas series. The differences between sets and subsets (both ```pd.Index```) and scalars/parameters/variables are more subtle. The function ```DataBase._type(symbol)``` returns the type."
   ]
  },
  {
   "cell_type": "markdown",
   "metadata": {},
   "source": [
    "#### ```gams.GamsSet```\n",
    "The ```gams.GamsSet``` is split into three subtypes for the ```gpy_symbol```: \\{'set','subset','mapping'\\}. The type *set* is defined as a ```pd.Index``` where the *name* attribute corresponds to the *name* attribute of the ```gpy_symbol``` itself. Correspondingly, *subsets* are defined as ```pd.Index``` where the *name* attributes are not aligned:"
   ]
  },
  {
   "cell_type": "code",
   "execution_count": 3,
   "metadata": {},
   "outputs": [
    {
     "data": {
      "text/plain": [
       "(True, False)"
      ]
     },
     "execution_count": 3,
     "metadata": {},
     "output_type": "execute_result"
    }
   ],
   "source": [
    "db = dbs['gpy1']\n",
    "setname, subset = 'i','subset'\n",
    "db[setname].vals.name == setname, db[subset].vals.name == subset"
   ]
  },
  {
   "cell_type": "markdown",
   "metadata": {},
   "source": [
    "*Mappings* are defined as multidimensional sets and stored as ```pd.MultiIndex``` instances. The *names* attribute include domains as strings referring to the *self.name* attributes of corresponding *sets*:"
   ]
  },
  {
   "cell_type": "code",
   "execution_count": 4,
   "metadata": {},
   "outputs": [
    {
     "data": {
      "text/plain": [
       "MultiIndex([(1,   1),\n",
       "            (1,   0),\n",
       "            (1,   2),\n",
       "            (1,   3),\n",
       "            (1,   4),\n",
       "            (1,   5),\n",
       "            (1,   6),\n",
       "            (1,   7),\n",
       "            (1,   8),\n",
       "            (1,   9),\n",
       "            ...\n",
       "            (1, 990),\n",
       "            (1, 991),\n",
       "            (1, 992),\n",
       "            (1, 993),\n",
       "            (1, 994),\n",
       "            (1, 995),\n",
       "            (1, 996),\n",
       "            (1, 997),\n",
       "            (1, 998),\n",
       "            (1, 999)],\n",
       "           names=['i', 'j'], length=1000)"
      ]
     },
     "execution_count": 4,
     "metadata": {},
     "output_type": "execute_result"
    }
   ],
   "source": [
    "mapname = 'map'\n",
    "db['map'].vals"
   ]
  },
  {
   "cell_type": "markdown",
   "metadata": {},
   "source": [
    "#### ```gams.GamsVariable```\n",
    "The ```gams.GamsVariable``` type is split into two subtypes for the ```gpy```: \\{'scalar_variable','variable'\\}. *Scalars* are defined as non-iterable objects e.g. integers, floats, or similar. *Variables* are stored as ```pd.Series``` defined over relevant indices."
   ]
  },
  {
   "cell_type": "code",
   "execution_count": 5,
   "metadata": {},
   "outputs": [
    {
     "name": "stdout",
     "output_type": "stream",
     "text": [
      "Variable:\n",
      " i  j  \n",
      "1  1      10.0\n",
      "   0      10.0\n",
      "   2      10.0\n",
      "   3      10.0\n",
      "   4      10.0\n",
      "          ... \n",
      "   995    10.0\n",
      "   996    10.0\n",
      "   997    10.0\n",
      "   998    10.0\n",
      "   999    10.0\n",
      "Name: level, Length: 1000, dtype: object \n",
      "Scalar: 1.0\n"
     ]
    }
   ],
   "source": [
    "var,scalar_var = 'var','scalar'\n",
    "print(\"Variable:\\n\", db[var].vals,\n",
    "      \"\\nScalar:\", db[scalar_var].vals)"
   ]
  },
  {
   "cell_type": "markdown",
   "metadata": {},
   "source": [
    "Importantly, the ```gpy*``` currently only stores the attribute *level*, where the records in ```gams.GamsVariable``` includes ('level','marginal','lower','upper','scale') attributes."
   ]
  },
  {
   "cell_type": "markdown",
   "metadata": {},
   "source": [
    "#### ```gams.GamsParameter```\n",
    "The ```gams.GamsParameter``` type is split into two subtypes for the ```gpy```: \\{'scalar_parameter','parameter'\\}. Conventions are similar to variables."
   ]
  },
  {
   "cell_type": "code",
   "execution_count": 6,
   "metadata": {},
   "outputs": [
    {
     "name": "stdout",
     "output_type": "stream",
     "text": [
      "Parameter:\n",
      " i  j\n",
      "1  1    20.0\n",
      "   0    20.0\n",
      "   2    20.0\n",
      "   3    20.0\n",
      "   4    20.0\n",
      "   5    20.0\n",
      "   6    20.0\n",
      "   7    20.0\n",
      "   8    20.0\n",
      "   9    20.0\n",
      "Name: value, dtype: object \n",
      "Scalar: 2.0\n"
     ]
    }
   ],
   "source": [
    "param,param_scalar = 'param','pscalar'\n",
    "print(\"Parameter:\\n\", db[param].vals,\n",
    "      \"\\nScalar:\", db[param_scalar].vals)"
   ]
  },
  {
   "cell_type": "markdown",
   "metadata": {},
   "source": [
    "### 2: Initialization"
   ]
  },
  {
   "cell_type": "markdown",
   "metadata": {},
   "source": [
    "```gpy``` can be initialized in three ways: *gpy*, *dict*, or *pandas-like* object (the ```gpy_db``` class builds methods on this initialization methods to add symbols from gdx and gmd databases). Initialization using *dicts* and *gpy* are fastest, but do not perform any check of validity; thus, they are less robust."
   ]
  },
  {
   "cell_type": "markdown",
   "metadata": {},
   "source": [
    "*Initialization with gpy:* The symbol copies the attributes from ```gpy.__dict__```; if kwargs are included, these overwrite existing attributes. This, for instance, initializes a copy of the symbol, and adjusts the *.text* attribute:"
   ]
  },
  {
   "cell_type": "code",
   "execution_count": 7,
   "metadata": {},
   "outputs": [],
   "source": [
    "new_symbol = gpy(db['var'],**{'text': \"this is the same variable, but with new text\"})"
   ]
  },
  {
   "cell_type": "markdown",
   "metadata": {},
   "source": [
    "*Initialization with dicts:* defines attributes for each (key,value) pair. Thus, this is identical to initializing with a ```gpy.__dict__```"
   ]
  },
  {
   "cell_type": "code",
   "execution_count": 8,
   "metadata": {},
   "outputs": [],
   "source": [
    "new_symbol = gpy(new_symbol.__dict__)"
   ]
  },
  {
   "cell_type": "markdown",
   "metadata": {},
   "source": [
    "*Initialization with pandas-like symbols:* The initialization depends on the type of symbol we wish to add. The following provides simple examples for each type:"
   ]
  },
  {
   "cell_type": "markdown",
   "metadata": {},
   "source": [
    "*Variable/scalar_variables:* Keyword arguments are optional. Names can be added through the name of the series, or through kwargs."
   ]
  },
  {
   "cell_type": "code",
   "execution_count": 9,
   "metadata": {},
   "outputs": [],
   "source": [
    "var_from_pd = gpy(pd.Series([1], index = pd.Index(['i1'],name = 's'), name = 'variable_instance'),\n",
    "                  **{'name': 'variable_instance',\n",
    "                     'text': \"some explanation here\"})\n",
    "var_scalar  = gpy(0, **{'name': 'scalar_variable_instance', 'text':\"explanatory text\"})"
   ]
  },
  {
   "cell_type": "markdown",
   "metadata": {},
   "source": [
    "*Parameters/scalar_parameters:* As they are organized as variables/scalar_variables, the type has to be specified directly here."
   ]
  },
  {
   "cell_type": "code",
   "execution_count": 10,
   "metadata": {},
   "outputs": [],
   "source": [
    "par_from_pd = gpy(var_from_pd.vals.rename('parameter_instance'), **{'type': 'paramater'})\n",
    "par_scalar = gpy(0, **{'name': 'scalar_parameter_instance', 'type': 'scalar_parameter', 'text': \"...\"})"
   ]
  },
  {
   "cell_type": "markdown",
   "metadata": {},
   "source": [
    "*Sets:* Mappings are ```pd.MultiIndex```, sets/subsets are ```pd.Index```, distinguished by alignment/misalignment of names (as explained above)."
   ]
  },
  {
   "cell_type": "code",
   "execution_count": 11,
   "metadata": {},
   "outputs": [
    {
     "data": {
      "text/plain": [
       "('set', 'subset', 'mapping')"
      ]
     },
     "execution_count": 11,
     "metadata": {},
     "output_type": "execute_result"
    }
   ],
   "source": [
    "s = gpy(pd.Index(range(10),name='s'), **{'name':'s'}) # set\n",
    "ss = gpy(pd.Index(range(5), name='s'), **{'name':'ss'}) # subset\n",
    "m = gpy(pd.MultiIndex.from_tuples([(0,1)], names = ['s','i']),name='mapping_instance') # mapping\n",
    "(s.type, ss.type, m.type) # print types"
   ]
  },
  {
   "cell_type": "markdown",
   "metadata": {},
   "source": [
    "### 3: Properties"
   ]
  },
  {
   "cell_type": "markdown",
   "metadata": {},
   "source": [
    "*gpy*s come with a couple of simple build-in properties:\n",
    "* ```self.index```: Returns pandas index. If the symbol is a set it returns *self.vals*. If the symbol is a variable/parameter it returns the domains. otherwise it returns None.\n",
    "* ```self.domains```: Returns list of domains as strings. If *self.index* is None it returns empty list.\n",
    "* ```self.df```: Returns pd.DataFrame used in gams2numpy to write to gams-type databases. Only works for gpy instances with ```self.vals``` is a pd.Series instance.\n",
    "\n",
    "Examples:"
   ]
  },
  {
   "cell_type": "markdown",
   "metadata": {},
   "source": [
    "```python\n",
    "self.index\n",
    "```"
   ]
  },
  {
   "cell_type": "code",
   "execution_count": 12,
   "metadata": {},
   "outputs": [
    {
     "data": {
      "text/plain": [
       "Index(['i1'], dtype='object', name='s')"
      ]
     },
     "execution_count": 12,
     "metadata": {},
     "output_type": "execute_result"
    }
   ],
   "source": [
    "var_from_pd.index"
   ]
  },
  {
   "cell_type": "code",
   "execution_count": 13,
   "metadata": {},
   "outputs": [
    {
     "data": {
      "text/plain": [
       "MultiIndex([(0, 1)],\n",
       "           names=['s', 'i'])"
      ]
     },
     "execution_count": 13,
     "metadata": {},
     "output_type": "execute_result"
    }
   ],
   "source": [
    "m.index"
   ]
  },
  {
   "cell_type": "code",
   "execution_count": 14,
   "metadata": {},
   "outputs": [
    {
     "data": {
      "text/plain": [
       "False"
      ]
     },
     "execution_count": 14,
     "metadata": {},
     "output_type": "execute_result"
    }
   ],
   "source": [
    "var_scalar == None"
   ]
  },
  {
   "cell_type": "markdown",
   "metadata": {},
   "source": [
    "```python \n",
    "self.domains\n",
    "```"
   ]
  },
  {
   "cell_type": "code",
   "execution_count": 15,
   "metadata": {},
   "outputs": [
    {
     "data": {
      "text/plain": [
       "FrozenList(['s'])"
      ]
     },
     "execution_count": 15,
     "metadata": {},
     "output_type": "execute_result"
    }
   ],
   "source": [
    "var_from_pd.domains"
   ]
  },
  {
   "cell_type": "code",
   "execution_count": 16,
   "metadata": {},
   "outputs": [
    {
     "data": {
      "text/plain": [
       "FrozenList(['s', 'i'])"
      ]
     },
     "execution_count": 16,
     "metadata": {},
     "output_type": "execute_result"
    }
   ],
   "source": [
    "m.domains"
   ]
  },
  {
   "cell_type": "code",
   "execution_count": 17,
   "metadata": {},
   "outputs": [
    {
     "data": {
      "text/plain": [
       "[]"
      ]
     },
     "execution_count": 17,
     "metadata": {},
     "output_type": "execute_result"
    }
   ],
   "source": [
    "var_scalar.domains"
   ]
  },
  {
   "cell_type": "markdown",
   "metadata": {},
   "source": [
    "```python \n",
    "self.df\n",
    "```"
   ]
  },
  {
   "cell_type": "code",
   "execution_count": 18,
   "metadata": {},
   "outputs": [
    {
     "data": {
      "text/html": [
       "<div>\n",
       "<style scoped>\n",
       "    .dataframe tbody tr th:only-of-type {\n",
       "        vertical-align: middle;\n",
       "    }\n",
       "\n",
       "    .dataframe tbody tr th {\n",
       "        vertical-align: top;\n",
       "    }\n",
       "\n",
       "    .dataframe thead th {\n",
       "        text-align: right;\n",
       "    }\n",
       "</style>\n",
       "<table border=\"1\" class=\"dataframe\">\n",
       "  <thead>\n",
       "    <tr style=\"text-align: right;\">\n",
       "      <th></th>\n",
       "      <th>level</th>\n",
       "    </tr>\n",
       "    <tr>\n",
       "      <th>s</th>\n",
       "      <th></th>\n",
       "    </tr>\n",
       "  </thead>\n",
       "  <tbody>\n",
       "    <tr>\n",
       "      <th>i1</th>\n",
       "      <td>1</td>\n",
       "    </tr>\n",
       "  </tbody>\n",
       "</table>\n",
       "</div>"
      ],
      "text/plain": [
       "    level\n",
       "s        \n",
       "i1      1"
      ]
     },
     "execution_count": 18,
     "metadata": {},
     "output_type": "execute_result"
    }
   ],
   "source": [
    "var_from_pd.df"
   ]
  },
  {
   "cell_type": "code",
   "execution_count": 19,
   "metadata": {},
   "outputs": [
    {
     "data": {
      "text/html": [
       "<div>\n",
       "<style scoped>\n",
       "    .dataframe tbody tr th:only-of-type {\n",
       "        vertical-align: middle;\n",
       "    }\n",
       "\n",
       "    .dataframe tbody tr th {\n",
       "        vertical-align: top;\n",
       "    }\n",
       "\n",
       "    .dataframe thead th {\n",
       "        text-align: right;\n",
       "    }\n",
       "</style>\n",
       "<table border=\"1\" class=\"dataframe\">\n",
       "  <thead>\n",
       "    <tr style=\"text-align: right;\">\n",
       "      <th></th>\n",
       "      <th>value</th>\n",
       "    </tr>\n",
       "    <tr>\n",
       "      <th>s</th>\n",
       "      <th></th>\n",
       "    </tr>\n",
       "  </thead>\n",
       "  <tbody>\n",
       "    <tr>\n",
       "      <th>i1</th>\n",
       "      <td>1</td>\n",
       "    </tr>\n",
       "  </tbody>\n",
       "</table>\n",
       "</div>"
      ],
      "text/plain": [
       "    value\n",
       "s        \n",
       "i1      1"
      ]
     },
     "execution_count": 19,
     "metadata": {},
     "output_type": "execute_result"
    }
   ],
   "source": [
    "par_from_pd.df"
   ]
  },
  {
   "cell_type": "code",
   "execution_count": 20,
   "metadata": {},
   "outputs": [
    {
     "name": "stdout",
     "output_type": "stream",
     "text": [
      "Mapping is not defined as pd.Series; cannot convert to dataframe.\n"
     ]
    }
   ],
   "source": [
    "try:\n",
    "    m.df\n",
    "except:\n",
    "    print('Mapping is not defined as pd.Series; cannot convert to dataframe.')"
   ]
  }
 ],
 "metadata": {
  "kernelspec": {
   "display_name": "Python 3 (ipykernel)",
   "language": "python",
   "name": "python3"
  },
  "language_info": {
   "codemirror_mode": {
    "name": "ipython",
    "version": 3
   },
   "file_extension": ".py",
   "mimetype": "text/x-python",
   "name": "python",
   "nbconvert_exporter": "python",
   "pygments_lexer": "ipython3",
   "version": "3.9.7"
  }
 },
 "nbformat": 4,
 "nbformat_minor": 4
}
